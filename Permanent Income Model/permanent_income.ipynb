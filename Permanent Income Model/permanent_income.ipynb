{
 "cells": [
  {
   "cell_type": "markdown",
   "metadata": {},
   "source": [
    "# Permanent Income Model\n",
    "\n",
    "## Overview\n",
    "\n",
    "__This notebook displays three models and solutions with capital and endogenously determined long-run risk.  The models are considered in each of the three sections of this notebook and include:__\n",
    "\n",
    "__1. Adjustment cost__\n",
    "\n",
    "__2. Permanent income__\n",
    "\n",
    "__3. Habit persistance__\n",
    "\n",
    "__The first is an AK model with adjustment costs inspired in part by Eberly and Wong but includes a persistence process for technology.  The second is a version of Friedman's permanent income model, and the third one extends this to include habit persistence preferences motivated by the work of Hansen, Sargent Tallarini.__\n",
    "\n",
    "*This Notebook illustrates the impulse responses and robustness with respect to Friedman's permanent income model in \"Robust social planner with a single capital stock: notes\" (\"notes\" for reference). The Notebook has four sections:*\n",
    "\n",
    "*1. Impulse responses of logarithm of non-financial income*\n",
    "\n",
    "*2. Impulse responses of logarithm of consumption*\n",
    "\n",
    "*3. Present value responses log consumption/income ratio*\n",
    "\n",
    "*4. Robustness*"
   ]
  },
  {
   "cell_type": "code",
   "execution_count": null,
   "metadata": {},
   "outputs": [],
   "source": [
    "# Toggle on/off the raw code\n",
    "from IPython.display import HTML\n",
    "\n",
    "HTML('''<script>\n",
    "code_show=true; \n",
    "function code_toggle() {\n",
    " if (code_show){\n",
    " $('div.input').hide();\n",
    " } else {\n",
    " $('div.input').show();\n",
    " }\n",
    " code_show = !code_show\n",
    "} \n",
    "$( document ).ready(code_toggle);\n",
    "</script>\n",
    "<form action=\"javascript:code_toggle()\"><input type=\"submit\" value=\"Click here to switch on/off the raw code\"></form>''')"
   ]
  },
  {
   "cell_type": "markdown",
   "metadata": {},
   "source": [
    "## Section 2: Permanent Income"
   ]
  },
  {
   "cell_type": "code",
   "execution_count": 1,
   "metadata": {},
   "outputs": [],
   "source": [
    "# Import packages\n",
    "import numpy as np\n",
    "import matplotlib.pyplot as plt\n",
    "from permanent_income_code import *\n",
    "%matplotlib inline"
   ]
  },
  {
   "cell_type": "markdown",
   "metadata": {},
   "source": [
    "### Section 2.1: Impulse responses of log income"
   ]
  },
  {
   "cell_type": "markdown",
   "metadata": {},
   "source": [
    "We evaluate first-order approximation for consumption at a logarithm of the non-financial income process {$Y_{t}$} adapted from Hansen et al. (1999). In the paper, there are two components of the logarithm of non-financial income, one more persistent than the other. To construct the first component, let\n",
    "\n",
    "\\begin{equation*}\n",
    " X^{1}_{1,t+1} = .704X^{1}_{1,t} + \\begin{bmatrix} .144 & 0 \\end{bmatrix} W_{t+1}\n",
    "\\end{equation*}\n",
    "\n",
    "and get $Y^{1}_{1,t+1} = Y^{1}_{t} + X^{1}_{1,t+1}$. For the second component, let\n",
    "\n",
    "\\begin{equation*}\n",
    " X^{1}_{2,t+1} = X^{1}_{2,t} - .154 X^{1}_{2,t-1} + \\begin{bmatrix} 0 & .206 \\end{bmatrix} W_{t+1}\n",
    "\\end{equation*}\n",
    "\n",
    "and get $Y^{1}_{2,t+1} = X^{1}_{2,t+1}$. Let $Y^{1}_{t+1} = (.01)Y^{1}_{1,t+1} + (.01)Y^{1}_{2,t+1}$. In this case {$Y^{1}_{t}$} process is an additive functional. \n",
    "\n",
    "We set the asset return $\\rho = .00663$ and the constant in the logarithm of income process $\\nu = .00373$. We assume that\n",
    "\n",
    "$$\\exp(-\\delta + \\rho - \\nu) = 1$$\n",
    "\n",
    "and thus $\\delta = \\rho - \\nu$. Both innovation standard deviations are scaled by $1.33$ to achieve the target consumption growth rate volatility (log differences multiplied by 100). We solve the impulse responses of log income {$Y^1_t$} to the permanent and transitory shock processes with the `income_path` function in the `permanent_income_code` module. The function `plot_resposnes` plots the graphs for the permanent income model. Top panel in <font color='green'>green</font> is the impulse response for the permanent shock. Bottom panel in <font color='blue'>blue</font> is the response for the transitory shock. "
   ]
  },
  {
   "cell_type": "code",
   "execution_count": 2,
   "metadata": {},
   "outputs": [
    {
     "data": {
      "image/png": "[encoded data removed]",
      "text/plain": [
       "<matplotlib.figure.Figure at 0x29b7ec39198>"
      ]
     },
     "metadata": {
      "needs_background": "light"
     },
     "output_type": "display_data"
    }
   ],
   "source": [
    "# Parameters\n",
    "T = 2000        # Time horizon\n",
    "S = 2           # Impulse date\n",
    "ρ = 0.00663     # rate of return on assets\n",
    "ν = 0.00373     # constant in the log income process\n",
    "σ1 = 0.108*1.33 # Permanent shock\n",
    "σ2 = 0.155*1.33 # Transitory shock\n",
    "\n",
    "\n",
    "# Compute income responses\n",
    "Y1, Y2 = income_path(T=T, S=S, sigma1=σ1, sigma2=σ2)\n",
    "\n",
    "# Plot income responses\n",
    "plot_responses(Y1, Y2, T=T, S=S)"
   ]
  },
  {
   "cell_type": "markdown",
   "metadata": {},
   "source": [
    "### Section 2.2: Impulse responses of log consumption"
   ]
  },
  {
   "cell_type": "markdown",
   "metadata": {},
   "source": [
    "Next, we plot the impulse responses of the log consumption process {$C_{t}+Y_{t}$}. We first express the log consumption-income ratio process {$C_{t}$} in terms of {$X_t$} explicitly. From \"notes\", we have\n",
    "\n",
    "\\begin{equation}\n",
    "\\tag{1}\n",
    "\\label{1}\n",
    " Y^{1}_{t+1} - Y^{1}_{t} = \\mathbb{D}_{y} \\cdot X_t + \\mathbb{F}_{y} \\cdot W_{t+1}\n",
    "\\end{equation}\n",
    "\n",
    "and\n",
    "\n",
    "\n",
    "\\begin{equation}\n",
    "\\tag{2}\n",
    "\\label{2}\n",
    "X_{t+1} = \\mathbb{A}_{x}X_{t} + \\mathbb{B}_{x}W_{t+1} \n",
    "\\end{equation}\n",
    "\n",
    "The first-order approximation for the financial income {$K^{1}_{t}$} in terms of {$C^{1}_{t}$} is\n",
    "\n",
    "\\begin{equation}\n",
    "\\tag{3.1}\n",
    "\\label{3.1}\n",
    "K^{1}_{t+1} = \\exp(\\rho - \\nu) K^{1}_{t} - \\bar{k}(Y^1_{t+1}-Y^1_{t}) - \\exp(\\bar{c}-\\nu) C^{1}_{t}\n",
    "\\end{equation}\n",
    "\n",
    "The restriction $\\delta = \\rho - \\nu$ implies that the steady state satisfies:\n",
    "\n",
    "\\begin{equation}\n",
    "\\exp(\\bar{c}) = [\\exp(\\rho) - \\exp(\\nu)] \\bar{k} + 1\n",
    "\\end{equation}\n",
    "\n",
    "We are free to set $\\bar{k}$. For convenience, we assume $\\bar{k}=0$ and hence $\\exp(\\bar{c})=1$. In this case:\n",
    "\n",
    "\\begin{equation}\n",
    "\\tag{3}\n",
    "\\label{3}\n",
    "K^{1}_{t+1} = \\exp(\\rho - \\nu) K^{1}_{t} - \\exp(-\\nu) C^{1}_{t}\n",
    "\\end{equation}\n",
    "\n",
    "We can express the approximation to the log consumption-income ratio with the planner's two income sources: financial income and non-financial income,\n",
    "\n",
    "\\begin{equation}\n",
    "\\tag{4}\n",
    "\\label{4}\n",
    "C^{1}_{t} = \\frac{\\exp(\\nu)(1-\\lambda)}{\\lambda} K^{1}_{t} + \\sum^{\\infty}_{j=1} \\lambda^{j} E(Y^{1}_{t+j} - Y^{1}_{t+j-1} \\vert \\mathcal{F}_t)\n",
    "\\end{equation}\n",
    "\n",
    "where $\\lambda = \\exp(\\nu - \\rho)$. Solving the geometric series with equations (\\ref{1}) and (\\ref{2}), the non-financial income contribution to the log consumption-income ratio can be expressed as\n",
    "\n",
    "\\begin{equation}\n",
    "\\tag{5}\n",
    "\\label{5}\n",
    "\\sum^{\\infty}_{j=1} \\lambda^{j} E(Y^{1}_{t+j} - Y^{1}_{t+j-1} \\vert \\mathcal{F}_t) = \\lambda \\mathbb{D}_{y}^{T} (I - \\lambda \\mathbb{A}_{x})^{-1} X_{t} = MX_{t}\n",
    "\\end{equation}\n",
    "\n",
    "Plug equations (\\ref{5}) and (\\ref{3}) into equation (\\ref{4}) and re-arrange the terms, we get the explicit expression of {$K^{1}_{t}$} as an additive functional in terms of {$X_{t}$}:\n",
    "\n",
    "\\begin{equation}\n",
    "\\tag{6}\n",
    "\\label{6}\n",
    "K^{1}_{t+1} - K^{1}_{t} = -\\exp(-\\nu) M X_{t}\n",
    "\\end{equation}\n",
    "\n",
    "And from (\\ref{4}) and (\\ref{6}), we get\n",
    "\n",
    "\\begin{equation}\n",
    "\\tag{7}\n",
    "\\label{7}\n",
    "C^{1}_{t+1} - C^{1}_{t} = [\\exp(\\rho) - \\exp(\\nu)] (K^{1}_{t+1} - K^{1}_{t}) + M(X_{t+1} - X_{t}) = MX_{t+1} - \\exp(\\rho - \\nu) MX_{t}\n",
    "\\end{equation}\n",
    "\n",
    "which expresses the log income-consumption ratio {$C^{1}_{t}$} in terms of {$X^{1}_{t}$}. The function `consumption_income_ratio_path` in the `permanent_income_code` module computes the log consumption-income ratio {$C^1_{t}$}. Adding {$C^{1}_{t}$} to the log non-financial income process {$Y^{1}_{t}$}, we obtain the log consumption process {$C^{1}_{t} + Y^{1}_{t}$}. The function `consumption_path` computes the log consumption process."
   ]
  },
  {
   "cell_type": "code",
   "execution_count": 3,
   "metadata": {},
   "outputs": [
    {
     "ename": "ValueError",
     "evalue": "setting an array element with a sequence.",
     "output_type": "error",
     "traceback": [
      "\u001b[1;31m---------------------------------------------------------------------------\u001b[0m",
      "\u001b[1;31mValueError\u001b[0m                                Traceback (most recent call last)",
      "\u001b[1;32m<ipython-input-3-5f7412951b51>\u001b[0m in \u001b[0;36m<module>\u001b[1;34m\u001b[0m\n\u001b[0;32m     10\u001b[0m \u001b[1;33m\u001b[0m\u001b[0m\n\u001b[0;32m     11\u001b[0m \u001b[1;31m# Get consumption responses\u001b[0m\u001b[1;33m\u001b[0m\u001b[1;33m\u001b[0m\u001b[1;33m\u001b[0m\u001b[0m\n\u001b[1;32m---> 12\u001b[1;33m \u001b[0mC1Y1\u001b[0m\u001b[1;33m,\u001b[0m \u001b[0mC2Y2\u001b[0m \u001b[1;33m=\u001b[0m \u001b[0mconsumption_path\u001b[0m\u001b[1;33m(\u001b[0m\u001b[0mM\u001b[0m\u001b[1;33m,\u001b[0m\u001b[0mT\u001b[0m\u001b[1;33m=\u001b[0m\u001b[0mT\u001b[0m\u001b[1;33m,\u001b[0m\u001b[0mS\u001b[0m\u001b[1;33m=\u001b[0m\u001b[0mS\u001b[0m\u001b[1;33m,\u001b[0m\u001b[0mrho\u001b[0m\u001b[1;33m=\u001b[0m\u001b[0mρ\u001b[0m\u001b[1;33m,\u001b[0m\u001b[0mnu\u001b[0m\u001b[1;33m=\u001b[0m\u001b[0mν\u001b[0m\u001b[1;33m,\u001b[0m\u001b[0msigma1\u001b[0m\u001b[1;33m=\u001b[0m\u001b[0mσ1\u001b[0m\u001b[1;33m,\u001b[0m\u001b[0msigma2\u001b[0m\u001b[1;33m=\u001b[0m\u001b[0mσ2\u001b[0m\u001b[1;33m)\u001b[0m\u001b[1;33m\u001b[0m\u001b[1;33m\u001b[0m\u001b[0m\n\u001b[0m\u001b[0;32m     13\u001b[0m \u001b[1;33m\u001b[0m\u001b[0m\n\u001b[0;32m     14\u001b[0m \u001b[1;31m# Plot consumption responses\u001b[0m\u001b[1;33m\u001b[0m\u001b[1;33m\u001b[0m\u001b[1;33m\u001b[0m\u001b[0m\n",
      "\u001b[1;32mC:\\Users\\dongchenzou\\Dropbox\\Hansen\\Robustness\\robust_social_planner\\Permanent Income Model\\permanent_income_code.py\u001b[0m in \u001b[0;36mconsumption_path\u001b[1;34m(M, k_bar, Dy, T, S, rho, nu, sigma1, sigma2)\u001b[0m\n\u001b[0;32m    126\u001b[0m     \u001b[0mC2Y2\u001b[0m\u001b[1;33m:\u001b[0m \u001b[0mthe\u001b[0m \u001b[0mimpulse\u001b[0m \u001b[0mresponse\u001b[0m \u001b[0mpath\u001b[0m \u001b[0mof\u001b[0m \u001b[0mlog\u001b[0m \u001b[0mconsumption\u001b[0m \u001b[0mregarding\u001b[0m \u001b[0mthe\u001b[0m \u001b[0mtransitory\u001b[0m \u001b[0mshock\u001b[0m\u001b[1;33m\u001b[0m\u001b[1;33m\u001b[0m\u001b[0m\n\u001b[0;32m    127\u001b[0m     \"\"\"\n\u001b[1;32m--> 128\u001b[1;33m     \u001b[0mC1\u001b[0m\u001b[1;33m,\u001b[0m \u001b[0mC2\u001b[0m \u001b[1;33m=\u001b[0m \u001b[0mconsumption_income_ratio_path\u001b[0m\u001b[1;33m(\u001b[0m\u001b[0mM\u001b[0m\u001b[1;33m,\u001b[0m \u001b[0mk_bar\u001b[0m\u001b[1;33m=\u001b[0m\u001b[0mk_bar\u001b[0m\u001b[1;33m,\u001b[0m \u001b[0mDy\u001b[0m\u001b[1;33m=\u001b[0m\u001b[0mDy\u001b[0m\u001b[1;33m,\u001b[0m \u001b[0mT\u001b[0m\u001b[1;33m=\u001b[0m\u001b[0mT\u001b[0m\u001b[1;33m,\u001b[0m \u001b[0mS\u001b[0m\u001b[1;33m=\u001b[0m\u001b[0mS\u001b[0m\u001b[1;33m,\u001b[0m \u001b[0mrho\u001b[0m\u001b[1;33m=\u001b[0m\u001b[0mrho\u001b[0m\u001b[1;33m,\u001b[0m \u001b[0mnu\u001b[0m\u001b[1;33m=\u001b[0m\u001b[0mnu\u001b[0m\u001b[1;33m,\u001b[0m \u001b[0msigma1\u001b[0m\u001b[1;33m=\u001b[0m\u001b[0msigma1\u001b[0m\u001b[1;33m,\u001b[0m \u001b[0msigma2\u001b[0m\u001b[1;33m=\u001b[0m\u001b[0msigma2\u001b[0m\u001b[1;33m)\u001b[0m\u001b[1;33m\u001b[0m\u001b[1;33m\u001b[0m\u001b[0m\n\u001b[0m\u001b[0;32m    129\u001b[0m     \u001b[0mY1\u001b[0m\u001b[1;33m,\u001b[0m \u001b[0mY2\u001b[0m \u001b[1;33m=\u001b[0m \u001b[0mincome_path\u001b[0m\u001b[1;33m(\u001b[0m\u001b[0mT\u001b[0m\u001b[1;33m=\u001b[0m\u001b[0mT\u001b[0m\u001b[1;33m,\u001b[0m \u001b[0mS\u001b[0m\u001b[1;33m=\u001b[0m\u001b[0mS\u001b[0m\u001b[1;33m,\u001b[0m \u001b[0msigma1\u001b[0m\u001b[1;33m=\u001b[0m\u001b[0msigma1\u001b[0m\u001b[1;33m,\u001b[0m \u001b[0msigma2\u001b[0m\u001b[1;33m=\u001b[0m\u001b[0msigma2\u001b[0m\u001b[1;33m)\u001b[0m\u001b[1;33m\u001b[0m\u001b[1;33m\u001b[0m\u001b[0m\n\u001b[0;32m    130\u001b[0m \u001b[1;33m\u001b[0m\u001b[0m\n",
      "\u001b[1;32mC:\\Users\\dongchenzou\\Dropbox\\Hansen\\Robustness\\robust_social_planner\\Permanent Income Model\\permanent_income_code.py\u001b[0m in \u001b[0;36mconsumption_income_ratio_path\u001b[1;34m(M, k_bar, Dy, T, S, rho, nu, sigma1, sigma2)\u001b[0m\n\u001b[0;32m     96\u001b[0m                     \u001b[0mnp\u001b[0m\u001b[1;33m.\u001b[0m\u001b[0mexp\u001b[0m\u001b[1;33m(\u001b[0m\u001b[0mrho\u001b[0m \u001b[1;33m-\u001b[0m \u001b[0mnu\u001b[0m\u001b[1;33m)\u001b[0m \u001b[1;33m*\u001b[0m \u001b[0mM\u001b[0m\u001b[1;33m[\u001b[0m\u001b[1;36m0\u001b[0m\u001b[1;33m]\u001b[0m \u001b[1;33m*\u001b[0m \u001b[0mX1\u001b[0m\u001b[1;33m[\u001b[0m\u001b[0mt\u001b[0m\u001b[1;33m]\u001b[0m  \u001b[1;33m-\u001b[0m\u001b[0;31m \u001b[0m\u001b[0;31m\\\u001b[0m\u001b[1;33m\u001b[0m\u001b[1;33m\u001b[0m\u001b[0m\n\u001b[0;32m     97\u001b[0m                     \u001b[0mk_bar\u001b[0m \u001b[1;33m*\u001b[0m \u001b[0mG\u001b[0m \u001b[1;33m*\u001b[0m \u001b[0mDy\u001b[0m\u001b[1;33m[\u001b[0m\u001b[1;36m0\u001b[0m\u001b[1;33m]\u001b[0m \u001b[1;33m*\u001b[0m \u001b[0mX1\u001b[0m\u001b[1;33m[\u001b[0m\u001b[0mt\u001b[0m\u001b[1;33m]\u001b[0m \u001b[1;33m-\u001b[0m\u001b[0;31m \u001b[0m\u001b[0;31m\\\u001b[0m\u001b[1;33m\u001b[0m\u001b[1;33m\u001b[0m\u001b[0m\n\u001b[1;32m---> 98\u001b[1;33m                     \u001b[0mk_bar\u001b[0m \u001b[1;33m*\u001b[0m \u001b[0mG\u001b[0m \u001b[1;33m*\u001b[0m \u001b[0msigma1\u001b[0m \u001b[1;33m*\u001b[0m \u001b[0mw\u001b[0m\u001b[1;33m[\u001b[0m\u001b[0mt\u001b[0m\u001b[1;33m+\u001b[0m\u001b[1;36m1\u001b[0m\u001b[1;33m]\u001b[0m\u001b[1;33m\u001b[0m\u001b[1;33m\u001b[0m\u001b[0m\n\u001b[0m\u001b[0;32m     99\u001b[0m         \u001b[0mC2\u001b[0m\u001b[1;33m[\u001b[0m\u001b[0mt\u001b[0m\u001b[1;33m+\u001b[0m\u001b[1;36m1\u001b[0m\u001b[1;33m]\u001b[0m \u001b[1;33m=\u001b[0m \u001b[0mC2\u001b[0m\u001b[1;33m[\u001b[0m\u001b[0mt\u001b[0m\u001b[1;33m]\u001b[0m \u001b[1;33m+\u001b[0m \u001b[1;33m(\u001b[0m\u001b[0mM\u001b[0m\u001b[1;33m[\u001b[0m\u001b[1;36m1\u001b[0m\u001b[1;33m]\u001b[0m \u001b[1;33m*\u001b[0m \u001b[0mX2\u001b[0m\u001b[1;33m[\u001b[0m\u001b[0mt\u001b[0m\u001b[1;33m+\u001b[0m\u001b[1;36m1\u001b[0m\u001b[1;33m]\u001b[0m \u001b[1;33m+\u001b[0m \u001b[0mM\u001b[0m\u001b[1;33m[\u001b[0m\u001b[1;36m2\u001b[0m\u001b[1;33m]\u001b[0m \u001b[1;33m*\u001b[0m \u001b[0mX2\u001b[0m\u001b[1;33m[\u001b[0m\u001b[0mt\u001b[0m\u001b[1;33m]\u001b[0m\u001b[1;33m)\u001b[0m \u001b[1;33m-\u001b[0m\u001b[0;31m \u001b[0m\u001b[0;31m\\\u001b[0m\u001b[1;33m\u001b[0m\u001b[1;33m\u001b[0m\u001b[0m\n\u001b[0;32m    100\u001b[0m                     \u001b[0mnp\u001b[0m\u001b[1;33m.\u001b[0m\u001b[0mexp\u001b[0m\u001b[1;33m(\u001b[0m\u001b[0mrho\u001b[0m \u001b[1;33m-\u001b[0m \u001b[0mnu\u001b[0m\u001b[1;33m)\u001b[0m \u001b[1;33m*\u001b[0m \u001b[1;33m(\u001b[0m\u001b[0mM\u001b[0m\u001b[1;33m[\u001b[0m\u001b[1;36m1\u001b[0m\u001b[1;33m]\u001b[0m \u001b[1;33m*\u001b[0m \u001b[0mX2\u001b[0m\u001b[1;33m[\u001b[0m\u001b[0mt\u001b[0m\u001b[1;33m]\u001b[0m \u001b[1;33m+\u001b[0m \u001b[0mM\u001b[0m\u001b[1;33m[\u001b[0m\u001b[1;36m2\u001b[0m\u001b[1;33m]\u001b[0m \u001b[1;33m*\u001b[0m \u001b[0mX2\u001b[0m\u001b[1;33m[\u001b[0m\u001b[0mt\u001b[0m\u001b[1;33m-\u001b[0m\u001b[1;36m1\u001b[0m\u001b[1;33m]\u001b[0m\u001b[1;33m)\u001b[0m \u001b[1;33m-\u001b[0m\u001b[0;31m \u001b[0m\u001b[0;31m\\\u001b[0m\u001b[1;33m\u001b[0m\u001b[1;33m\u001b[0m\u001b[0m\n",
      "\u001b[1;31mValueError\u001b[0m: setting an array element with a sequence."
     ]
    }
   ],
   "source": [
    "# =============================================================================\n",
    "# 2.3： Impulse response -- C + Y\n",
    "# =============================================================================\n",
    "# Comp\n",
    "λ = np.exp(ν - ρ)\n",
    "D = np.array([[0.704],[0],[-0.154]])\n",
    "A = np.array([[0.704,0,0],[0,1,-0.154],[0,1,0]])\n",
    "M = λ * np.matmul(D.T, np.linalg.inv(np.identity(A.shape[0]) - λ*A))\n",
    "M = M.flatten()\n",
    "\n",
    "# Get consumption responses\n",
    "C1Y1, C2Y2 = consumption_path(M,T=T,S=S,rho=ρ,nu=ν,sigma1=σ1,sigma2=σ2)\n",
    "\n",
    "# Plot consumption responses\n",
    "plot_responses(C1Y1, C2Y2, T=T, S=S)"
   ]
  },
  {
   "cell_type": "markdown",
   "metadata": {},
   "source": [
    "The responses of consumption to shocks are both constant across horizons. This is aligned with the first-order approximation to the Euler equation:\n",
    "\n",
    "\\begin{equation}\n",
    "E[C^{1}_{t+1} + Y^{1}_{t+1} \\vert \\mathcal{F}_t] = C^{1}_{t} + Y^{1}_{t}\n",
    "\\end{equation}\n",
    "\n",
    "The two consumption responses for the two shocks are:\n"
   ]
  },
  {
   "cell_type": "code",
   "execution_count": null,
   "metadata": {},
   "outputs": [],
   "source": [
    "# Print the values of the two responses\n",
    "print('Permanent shock = %.3g' % C1Y1[-1])\n",
    "print('Transitory shock = %.3g' % C2Y2[-1])"
   ]
  },
  {
   "cell_type": "markdown",
   "metadata": {},
   "source": [
    "### Section 2.3: Present value responses of log consumption/income ratio"
   ]
  },
  {
   "cell_type": "markdown",
   "metadata": {},
   "source": [
    "We plot the discounted cumulative sum for the impulse reponses of log consumption/income ratio {$C^{1}_{t}$}. We discount the impulse response function by $\\lambda$, and thus the present value will be\n",
    "\n",
    "\\begin{equation}\n",
    "\\lim_{T \\to \\infty}\\sum^{T}_{t=0} \\lambda^{t} C^{1}_{t}\n",
    "\\end{equation}\n",
    "\n",
    "The plots below shows the present value responses as $T$ approaches infinity. The infinite discounted sum of the response of $C^{1}_{t}$ to both shocks will converge to zero, and yet the convergence is slow."
   ]
  },
  {
   "cell_type": "code",
   "execution_count": null,
   "metadata": {
    "scrolled": false
   },
   "outputs": [],
   "source": [
    "#==============================================================================\n",
    "# Discounted cumulative sum for impulse response of C\n",
    "#==============================================================================\n",
    "n = np.arange(T)\n",
    "lam = λ**n\n",
    "C1, C2 = consumption_income_ratio_path(M,T=T,S=S,rho=ρ,nu=ν,sigma1=σ1,sigma2=σ2)\n",
    "cumsum_C1 = np.cumsum(C1[S:]*lam)\n",
    "cumsum_C2 = np.cumsum(C2[S:]*lam)\n",
    "\n",
    "fig, axes = plt.subplots(2, 1,figsize=(8,8))\n",
    "plt.subplots_adjust(hspace=0.5)\n",
    "p_args = {'lw': 2, 'alpha': 0.7}\n",
    "\n",
    "\n",
    "for ax in axes:\n",
    "    ax.grid(alpha=0.5)\n",
    "    ax.set_xlim(0,T)\n",
    "    ax.plot((0,T),(0,0), 'k--')\n",
    "    ax.set_xlabel(r'Quarters')\n",
    "    \n",
    "ax = axes[0]\n",
    "ax.plot(list(range(T)), cumsum_C1, 'g-', **p_args)\n",
    "\n",
    "ax = axes[1]\n",
    "ax.plot(list(range(T)), cumsum_C2, 'b-', **p_args)  \n",
    "\n",
    "plt.show()"
   ]
  },
  {
   "cell_type": "markdown",
   "metadata": {},
   "source": [
    "### Section 2.4: Robustness"
   ]
  },
  {
   "cell_type": "markdown",
   "metadata": {},
   "source": [
    "We now add the robustness concern to the model by adding risk sensitivity to the utility function. We characterize an obsetvational equivalence between discount rate $\\delta$ and robustness concern $\\frac{1}{\\xi}$, similar to the construction in Hansen et al. (1999). We assume that\n",
    "\n",
    "\\begin{equation}\n",
    "\\delta = \\rho - \\nu - \\frac{|F_{c} + F_{y}|^{2}}{\\xi}\n",
    "\\end{equation}\n",
    "\n",
    "where $\\delta$ is affine in $\\frac{1}{\\xi}$, $F_{c}$ and $F_{y}$ are respectively permanent and transitory shocks of the log consumption responses {$C^{1}_{t}$}. Below we plot the relation between subjective discount rates $\\delta$ and robustness $\\frac{1}{\\xi}$. The value of $\\frac{1}{\\xi}$ when $\\delta$ reaches zero is $124.80$."
   ]
  },
  {
   "cell_type": "code",
   "execution_count": null,
   "metadata": {},
   "outputs": [],
   "source": [
    "#==============================================================================\n",
    "# Observational Equivalence\n",
    "#==============================================================================\n",
    "# The squared value of Fc + Fy\n",
    "FcFy_sq = (C1Y1[-1]*0.01)**2 + (C2Y2[-1]*0.01)**2\n",
    "\n",
    "# The grid values of 1/ξ\n",
    "s = np.arange(0,1000,0.1)\n",
    "\n",
    "# Subjective discount rate\n",
    "δ = ρ - ν - FcFy_sq*s\n",
    "\n",
    "# The value of 1/ξ where δ is 0\n",
    "max_s = s[np.where(δ > 0)[0][-1]]\n",
    "print(r'The maximum value of 1/xi: %.2f' % max_s)\n",
    "\n",
    "\n",
    "# Plot\n",
    "fig, ax = plt.subplots(figsize=(10,8))\n",
    "plt.subplots_adjust(hspace=0.5)\n",
    "p_args = {'lw': 2, 'alpha': 0.7}\n",
    "ax.set_xlim(0,max_s)\n",
    "ax.set_ylim(0,δ[0])\n",
    "ax.set_xlabel(r'$\\frac{1}{\\xi}$', size='xx-large')\n",
    "ax.set_ylabel(r'$\\delta$', size='xx-large')\n",
    "\n",
    "ax.plot(s, δ)\n",
    "\n",
    "plt.show()"
   ]
  },
  {
   "cell_type": "markdown",
   "metadata": {},
   "source": [
    "## References"
   ]
  },
  {
   "cell_type": "markdown",
   "metadata": {},
   "source": [
    "Hansen, Lars Peter, Thomas Sargent, and Thomas Tallarini. 1999. Robust Permanent\n",
    "Income and Pricing. *Review of Economic Studies* 66 (4):873-907."
   ]
  }
 ],
 "metadata": {
  "kernelspec": {
   "display_name": "Python 3",
   "language": "python",
   "name": "python3"
  },
  "language_info": {
   "codemirror_mode": {
    "name": "ipython",
    "version": 3
   },
   "file_extension": ".py",
   "mimetype": "text/x-python",
   "name": "python",
   "nbconvert_exporter": "python",
   "pygments_lexer": "ipython3",
   "version": "3.6.8"
  }
 },
 "nbformat": 4,
 "nbformat_minor": 2
}
