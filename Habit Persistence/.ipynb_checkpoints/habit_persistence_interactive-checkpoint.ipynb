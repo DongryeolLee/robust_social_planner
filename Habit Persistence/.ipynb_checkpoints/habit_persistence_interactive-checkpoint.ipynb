{
 "cells": [
  {
   "cell_type": "markdown",
   "metadata": {},
   "source": [
    "# Habit persistence\n",
    "\n",
    "## Overview\n",
    "\n",
    "__This notebook displays three models and solutions with capital and endogenously determined long-run risk.  The models are considered in each of the three sections of this notebook and include:__\n",
    "\n",
    "__1. Adjustment cost__\n",
    "\n",
    "__2. Permanent income__\n",
    "\n",
    "__3. Habit persistance__\n",
    "\n",
    "__The first is an AK model with adjustment costs inspired in part by Eberly and Wong but includes a persistence process for technology.  The second is a version of Friedman's permanent income model, and the third one extends this to include habit persistence preferences motivated by the work of Hansen, Sargent Tallarini.__\n",
    "\n",
    "*This Notebook shows the solution strategy of the habit persistence model with HST's specification, addressed in \"Robust social planner with a single capital stock: notes\" (\"notes\" for reference). The notebook has two sections:*\n",
    "\n",
    "*1. Consumption responses for the permanent and transitory shock processes for habit persistent preferences*\n",
    "\n",
    "*2. Robustnes*\n",
    "\n",
    "*Note: To use this notebook, one needs to install `sympy`,  a Python library for symbolic mathematics that can solve system of equations analytically. We use `sympy` here to solve the system dynamics of the habit persistence model. For more information about `sympy`, visit http://docs.sympy.org/latest/tutorial/index.html.*"
   ]
  },
  {
   "cell_type": "markdown",
   "metadata": {},
   "source": [
    "## Section 3: Habit Persistance"
   ]
  },
  {
   "cell_type": "markdown",
   "metadata": {},
   "source": [
    "### Section 3.1: Consumption responses under habit persistence"
   ]
  },
  {
   "cell_type": "markdown",
   "metadata": {},
   "source": [
    "In this section, we solve the system dynamics of the habit persistence model and plot the consumption responses. First, we setup the parameters, shocks and figure format, and import functions from the module `habit_persistence_code`. The parameters follow Section 2 of the chapter."
   ]
  },
  {
   "cell_type": "code",
   "execution_count": 1,
   "metadata": {
    "collapsed": true
   },
   "outputs": [],
   "source": [
    "#==============================================================================\n",
    "# Setup\n",
    "#==============================================================================\n",
    "# Import packages\n",
    "import numpy as np\n",
    "import matplotlib.pyplot as plt\n",
    "from ipywidgets import interactive, interact_manual\n",
    "from IPython.display import display\n",
    "%matplotlib inline\n",
    "\n",
    "# Import module\n",
    "from habit_persistence_code import *"
   ]
  },
  {
   "cell_type": "markdown",
   "metadata": {},
   "source": [
    "To compute consumption responses under habit persistence, we essentially conduct the following steps:\n",
    "\n",
    "1. Calculate parameters and Steady State Values\n",
    "2. Solve $C^{1}_{t}$ and $U^{1}_{t}$ in terms of $Z^{1}_{t}$ and $Z^{1}_{t+1}$\n",
    "3. Solve for matrices $\\mathbb{L}$ and $\\mathbb{J}$ (in this notebook I use $\\mathbb{L} = I$ and solve for $\\mathbb{J}$)\n",
    "4. Compute $\\mathbb{N}_{11}$ and $\\mathbb{N}_{12}$\n",
    "5. Compute the stable dynamic matrix $\\mathbb{A}$\n",
    "6. Perform the two checks: (1) the matrix multiplication is zero (2) eigenvalues of $\\mathbb{A}$ coincide with the weakly stable eigenvalues\n",
    "7. Add the shocks back to the $X$ evolution equation\n",
    "8. Compute the consumption response process {$C^{1}_{t} + Y^{1}_{t}$}.\n",
    "\n",
    "More detailed formulas and instructions can be found in \"Solution strategy\" section in \"notes\". Here we provide some equations for reference in the codes:\n",
    "\n",
    "\\begin{equation}\n",
    "\\tag{1}\n",
    "\\label{1}\n",
    "K^{1}_{t+1} = \\exp(\\rho - \\nu) K^{1}_{t} - \\exp(-\\nu) C^{1}_{t}\n",
    "\\end{equation}\n",
    "\n",
    "\\begin{equation}\n",
    "\\tag{2}\n",
    "\\label{2}\n",
    "H^{1}_{t+1} = \\exp(-\\psi - \\nu) H^{1}_{t} - [1 - \\exp(-\\nu - \\psi)] C^{1}_{t} - Y_{t+1} + Y_{t}\n",
    "\\end{equation}\n",
    "\n",
    "\\begin{equation}\n",
    "\\tag{3}\n",
    "\\label{3}\n",
    "U^{1}_{t} = (1-\\alpha) \\exp[(\\eta - 1)(\\bar{u} - \\bar{c})] C^{1}_{t} + \\alpha \\exp[(\\eta - 1)(\\bar{u} - \\bar{h})] H^{1}_{t}\n",
    "\\end{equation}\n",
    "\n",
    "\\begin{equation}\n",
    "\\tag{4}\n",
    "\\label{4}\n",
    "\\exp(-\\delta - \\psi - \\nu + \\overline{mh})E[MH^{1}_{t+1} + Y^{1}_{t} - Y^{1}_{t+1} | \\mathcal{F}_{t}] = \\exp(\\overline{mh})MH^{1}_{t} - \\alpha \\exp[(\\eta - 1) \\bar{u} - \\eta \\bar{h}] [(\\eta - 1) U^{1}_{t} - \\eta H^{1}_{t}]\n",
    "\\end{equation}\n",
    "\n",
    "\\begin{equation}\n",
    "\\tag{5}\n",
    "\\label{5}\n",
    "(1 - \\alpha) \\exp[(\\eta - 1) \\bar{u} - \\eta \\bar{c}] [(\\eta - 1) U^{1}_{t} - \\eta C^{1}_{t}] = \\exp(-\\delta - \\nu) E\\{\\exp(\\overline{mk}) MK^{1}_{t+1} - [1 - \\exp(-\\psi)] \\exp(\\overline{mh}) MH^{1}_{t+1} | \\mathcal{F}_{t}\\} + \\exp(-\\delta - \\nu) \\{\\exp(\\overline{mk}) - [1 - \\exp(-\\psi)] \\exp(\\overline{mh})\\} E(Y^{1}_{t} - Y^{1}_{t+1} | \\mathcal{F}_{t})\n",
    "\\end{equation}\n",
    "\n",
    "\\begin{equation}\n",
    "\\tag{6}\n",
    "\\label{6}\n",
    "\\exp(-\\delta + \\rho - \\nu) E[MK^{1}_{t+1} + Y^{1}_{t} - Y^{1}_{t+1} | \\mathcal{F}_{t}] = MK^{1}_{t}\n",
    "\\end{equation}\n",
    "\n",
    "We construct two functions to execute the above steps:\n",
    "- (for steps 1 through 6) `solve_habit_persistence` \n",
    "- (for steps 7 and 8) `habit_persistence_consumption_path`\n",
    "\n",
    "We first solve the habit persistence model with function `solve_habit_persistence`, and then we calculate the consumption responses by inputting the model solution into function `habit_persistence_consumption_path`. I will later test to combine these two functions with the default parameters into a `class` object. For now we just keep the functions separately.\n",
    "\n",
    "The parameters that can be changed are in `solve_habit_persistence`:\n",
    "\n",
    "- $\\alpha$: share parameter\n",
    "- $\\psi$: depreciation rate, $0\\leq\\exp(-\\psi)<1$\n",
    "- $\\eta$: elasticity of substitution.\n",
    "\n",
    "In many cases, we would like to plot out the consumption responses given our choices of parameters. The following code constructs an interactive slider interface such that the users can choose the desired parameters for $\\alpha$, $\\psi$ and $\\eta$. The function `plot_habit_consumption_path` imported from the `habit_persistence_code` module helps to create the plot for the consumption responses.\n",
    "\n",
    "To use the sliders, first slide and select the desired parameters, and then click on \"Run Interact\"."
   ]
  },
  {
   "cell_type": "code",
   "execution_count": 2,
   "metadata": {},
   "outputs": [
    {
     "data": {
      "application/vnd.jupyter.widget-view+json": {
       "model_id": "31a090e47a304858a00c4965d3e2f82e"
      }
     },
     "metadata": {},
     "output_type": "display_data"
    }
   ],
   "source": [
    "interactive_plot = interact_manual(plot_habit_consumption_path, \n",
    "                                   α=(0.01,0.99,0.01), \n",
    "                                   ψ=(0.1,3.0,0.1), \n",
    "                                   η=(0,100,10))"
   ]
  },
  {
   "cell_type": "markdown",
   "metadata": {},
   "source": [
    "### Section 3.2: Robustness"
   ]
  },
  {
   "cell_type": "markdown",
   "metadata": {},
   "source": [
    "Next we add in a concern about robustness as in Hansen et al. (1999). Represent:\n",
    "\n",
    "\\begin{equation}\n",
    "Y^{1}_{t+1} - Y^{1}_{t} = \\mathbb{S}_y \\cdot X_{t} + \\mathbb{F}_y \\cdot W_{t+1}\n",
    "\\end{equation}\n",
    "\n",
    "\\begin{equation}\n",
    "U^{1}_{t} = \n",
    "\\mathbb{S}_{u} \\cdot \n",
    "\\begin{bmatrix}\n",
    "K^{1}_{t} \\\\\n",
    "H^{1}_{t} \\\\\n",
    "X_{t}\n",
    "\\end{bmatrix}\n",
    "\\end{equation}\n",
    "\n",
    "\\begin{equation}\n",
    "V^{1}_{t} - Y^{1}_{t} = \n",
    "\\mathbb{S}_{v} \\cdot \n",
    "\\begin{bmatrix}\n",
    "K^{1}_{t} \\\\\n",
    "H^{1}_{t} \\\\\n",
    "X_{t}\n",
    "\\end{bmatrix}\n",
    "+ s_{v}\n",
    "\\end{equation}\n",
    "\n",
    "where $\\mathbb{S}_{u}$ comes from the model solution using `solve_habit_persistence`. Specifically, we do the following:\n",
    "\n",
    "1. Get $U^{1}_{t}$ from the model solution and express it in terms of $Z$\n",
    "2. Express the co-state expressions $MK^{1}_{t}$ and $MH^{1}_{t}$ in $U^{1}_{t}$ in terms of the states $K^{1}_{t}$, $H^{1}_{t}$, $X_{t}$\n",
    "3. Collecting terms to get $U^{1}_{t}$ in terms of $K^{1}_{t}$, $H^{1}_{t}$, $X_{t}$\n",
    "\n",
    "Next, we compute $\\mathbb{S}_{v}$ as in Hansen et al. (2008)\n",
    "\n",
    "\\begin{equation}\n",
    "(\\mathbb{S}_{v})' = \n",
    "[1 - \\exp(-\\delta)] (\\mathbb{S}_{u})' + \n",
    "\\exp(-\\delta) [(\\mathbb{S}_{v})'\\mathbb{A} + \n",
    "\\begin{bmatrix}\n",
    "0 & 0 & (\\mathbb{S}_y)'\n",
    "\\end{bmatrix}]\n",
    "\\end{equation}\n",
    "\n",
    "The above procedures can be done through the function `get_Sv`. The function uses the inputs from `solve_habit_persistence` to solve for $\\mathbb{S}_{v}$."
   ]
  },
  {
   "cell_type": "markdown",
   "metadata": {},
   "source": [
    "We also solve $s_{v}$, \n",
    "\n",
    "\\begin{equation}\n",
    "s_{v} = \\exp(-\\delta)[s_{v} - \\frac{\\xi}{2}|(\\mathbb{S}_{v})'\\mathbb{B} + \\mathbb{S}_{y})'\\mathbb{B}_x|^{2}]\n",
    "\\end{equation}\n",
    "\n",
    "and the uncertainty price vector \n",
    "\n",
    "\\begin{equation}\n",
    "(\\mathbb{S}_{v})'\\mathbb{B} + F_{y}\n",
    "\\end{equation}\n",
    "\n",
    "with functions `solve_sv` and `get_SvBFy` respectively. \n",
    "Now, we test the example that we used in \"notes\": $(\\alpha, \\eta, \\psi) = (.1, 100, 1.6)$:"
   ]
  },
  {
   "cell_type": "code",
   "execution_count": 3,
   "metadata": {
    "scrolled": false
   },
   "outputs": [
    {
     "name": "stdout",
     "output_type": "stream",
     "text": [
      "The uncertainty price vector for alpha = 0.1, eta = 100, psi = 1.6: [0.482, 0.00394]\n"
     ]
    }
   ],
   "source": [
    "#==============================================================================\n",
    "# Uncertainty price for alpha = .1, eta = 100, psi = 1.6\n",
    "#==============================================================================\n",
    "sens_list = []\n",
    "J, A, N1, N2, Ct, Ut = solve_habit_persistence(alpha = 0.1, eta = 100, psi = 1.6)\n",
    "Sv = get_Sv(A, J, N1, N2, Ut)\n",
    "SvBFy = get_SvBFy(Sv)\n",
    "SvBFy = [float('%.3g' % x) for x in SvBFy[0]]\n",
    "\n",
    "print('The uncertainty price vector for ' +\\\n",
    "      'alpha = 0.1, eta = 100, psi = 1.6: {0}'.format(SvBFy))"
   ]
  },
  {
   "cell_type": "markdown",
   "metadata": {},
   "source": [
    "## References"
   ]
  },
  {
   "cell_type": "markdown",
   "metadata": {},
   "source": [
    "Hansen, Lars Peter and Thomas J. Sargent. 2008. *Robustness*. Princeton, New Jersey:\n",
    "Princeton University Press.\n",
    "\n",
    "Hansen, Lars Peter, William Roberds, and Thomas J. Sargent. 1991. Time Series Im-\n",
    "plications of Present Value Budget Balance and of Martingale Models of Consumption\n",
    "and Taxes. *In Rational Expectations Econometrics*, edited by Lars Peter Hansen and\n",
    "Thomas J. Sargent, chap. 5. Boulder, Colorado: Westview Press.\n",
    "\n",
    "Hansen, Lars Peter, Thomas Sargent, and Thomas Tallarini. 1999. Robust Permanent\n",
    "Income and Pricing. *Review of Economic Studies* 66 (4):873-907.\n",
    "\n",
    "Hansen, Lars Peter, John C. Heaton, and Nan Li. 2008. Consumption Strikes Back?:\n",
    "Measuring Long Run Risk. *Journal of Political Economy*."
   ]
  }
 ],
 "metadata": {
  "kernelspec": {
   "display_name": "Python 3",
   "language": "python",
   "name": "python3"
  },
  "language_info": {
   "codemirror_mode": {
    "name": "ipython",
    "version": 3
   },
   "file_extension": ".py",
   "mimetype": "text/x-python",
   "name": "python",
   "nbconvert_exporter": "python",
   "pygments_lexer": "ipython3",
   "version": "3.6.8"
  }
 },
 "nbformat": 4,
 "nbformat_minor": 2
}
